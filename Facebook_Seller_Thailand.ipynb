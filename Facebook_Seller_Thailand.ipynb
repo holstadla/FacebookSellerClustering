{
  "nbformat": 4,
  "nbformat_minor": 0,
  "metadata": {
    "colab": {
      "name": "Facebook Seller Thailand.ipynb",
      "provenance": []
    },
    "kernelspec": {
      "name": "python3",
      "display_name": "Python 3"
    }
  },
  "cells": [
    {
      "cell_type": "code",
      "metadata": {
        "colab": {
          "base_uri": "https://localhost:8080/"
        },
        "id": "Pz2_Wurf5G1P",
        "outputId": "4320b4da-4614-4d50-9f77-5083e1212831"
      },
      "source": [
        "import pandas as pd \n",
        "import matplotlib.pyplot as plt\n",
        "%matplotlib inline\n",
        "from sklearn import cluster\n",
        "from sklearn import decomposition\n",
        "\n",
        "from google.colab import drive\n",
        "drive.mount('/gdrive')\n",
        "#Change current working directory to gdrive\n",
        "%cd /gdrive"
      ],
      "execution_count": 56,
      "outputs": [
        {
          "output_type": "stream",
          "text": [
            "Drive already mounted at /gdrive; to attempt to forcibly remount, call drive.mount(\"/gdrive\", force_remount=True).\n",
            "/gdrive\n"
          ],
          "name": "stdout"
        }
      ]
    },
    {
      "cell_type": "code",
      "metadata": {
        "colab": {
          "base_uri": "https://localhost:8080/",
          "height": 204
        },
        "id": "AwhuOh1V5S4P",
        "outputId": "f08f99f9-91df-4589-fff0-083c412f2b38"
      },
      "source": [
        "#Read files\n",
        "datafile = r'/gdrive/My Drive/Data Projects/Marketing Analytics/Personal Projects/Facebook Seller Live.csv'\n",
        "df = pd.read_csv(datafile) #creates a dataframe\n",
        "df.head()"
      ],
      "execution_count": 57,
      "outputs": [
        {
          "output_type": "execute_result",
          "data": {
            "text/html": [
              "<div>\n",
              "<style scoped>\n",
              "    .dataframe tbody tr th:only-of-type {\n",
              "        vertical-align: middle;\n",
              "    }\n",
              "\n",
              "    .dataframe tbody tr th {\n",
              "        vertical-align: top;\n",
              "    }\n",
              "\n",
              "    .dataframe thead th {\n",
              "        text-align: right;\n",
              "    }\n",
              "</style>\n",
              "<table border=\"1\" class=\"dataframe\">\n",
              "  <thead>\n",
              "    <tr style=\"text-align: right;\">\n",
              "      <th></th>\n",
              "      <th>status_id</th>\n",
              "      <th>status_type</th>\n",
              "      <th>status_published</th>\n",
              "      <th>num_reactions</th>\n",
              "      <th>num_comments</th>\n",
              "      <th>num_shares</th>\n",
              "      <th>num_likes</th>\n",
              "      <th>num_loves</th>\n",
              "      <th>num_wows</th>\n",
              "      <th>num_hahas</th>\n",
              "      <th>num_sads</th>\n",
              "      <th>num_angrys</th>\n",
              "      <th>Column1</th>\n",
              "      <th>Column2</th>\n",
              "      <th>Column3</th>\n",
              "      <th>Column4</th>\n",
              "    </tr>\n",
              "  </thead>\n",
              "  <tbody>\n",
              "    <tr>\n",
              "      <th>0</th>\n",
              "      <td>246675545449582_1649696485147474</td>\n",
              "      <td>video</td>\n",
              "      <td>4/22/2018 6:00</td>\n",
              "      <td>529</td>\n",
              "      <td>512</td>\n",
              "      <td>262</td>\n",
              "      <td>432</td>\n",
              "      <td>92</td>\n",
              "      <td>3</td>\n",
              "      <td>1</td>\n",
              "      <td>1</td>\n",
              "      <td>0</td>\n",
              "      <td>NaN</td>\n",
              "      <td>NaN</td>\n",
              "      <td>NaN</td>\n",
              "      <td>NaN</td>\n",
              "    </tr>\n",
              "    <tr>\n",
              "      <th>1</th>\n",
              "      <td>246675545449582_1649426988507757</td>\n",
              "      <td>photo</td>\n",
              "      <td>4/21/2018 22:45</td>\n",
              "      <td>150</td>\n",
              "      <td>0</td>\n",
              "      <td>0</td>\n",
              "      <td>150</td>\n",
              "      <td>0</td>\n",
              "      <td>0</td>\n",
              "      <td>0</td>\n",
              "      <td>0</td>\n",
              "      <td>0</td>\n",
              "      <td>NaN</td>\n",
              "      <td>NaN</td>\n",
              "      <td>NaN</td>\n",
              "      <td>NaN</td>\n",
              "    </tr>\n",
              "    <tr>\n",
              "      <th>2</th>\n",
              "      <td>246675545449582_1648730588577397</td>\n",
              "      <td>video</td>\n",
              "      <td>4/21/2018 6:17</td>\n",
              "      <td>227</td>\n",
              "      <td>236</td>\n",
              "      <td>57</td>\n",
              "      <td>204</td>\n",
              "      <td>21</td>\n",
              "      <td>1</td>\n",
              "      <td>1</td>\n",
              "      <td>0</td>\n",
              "      <td>0</td>\n",
              "      <td>NaN</td>\n",
              "      <td>NaN</td>\n",
              "      <td>NaN</td>\n",
              "      <td>NaN</td>\n",
              "    </tr>\n",
              "    <tr>\n",
              "      <th>3</th>\n",
              "      <td>246675545449582_1648576705259452</td>\n",
              "      <td>photo</td>\n",
              "      <td>4/21/2018 2:29</td>\n",
              "      <td>111</td>\n",
              "      <td>0</td>\n",
              "      <td>0</td>\n",
              "      <td>111</td>\n",
              "      <td>0</td>\n",
              "      <td>0</td>\n",
              "      <td>0</td>\n",
              "      <td>0</td>\n",
              "      <td>0</td>\n",
              "      <td>NaN</td>\n",
              "      <td>NaN</td>\n",
              "      <td>NaN</td>\n",
              "      <td>NaN</td>\n",
              "    </tr>\n",
              "    <tr>\n",
              "      <th>4</th>\n",
              "      <td>246675545449582_1645700502213739</td>\n",
              "      <td>photo</td>\n",
              "      <td>4/18/2018 3:22</td>\n",
              "      <td>213</td>\n",
              "      <td>0</td>\n",
              "      <td>0</td>\n",
              "      <td>204</td>\n",
              "      <td>9</td>\n",
              "      <td>0</td>\n",
              "      <td>0</td>\n",
              "      <td>0</td>\n",
              "      <td>0</td>\n",
              "      <td>NaN</td>\n",
              "      <td>NaN</td>\n",
              "      <td>NaN</td>\n",
              "      <td>NaN</td>\n",
              "    </tr>\n",
              "  </tbody>\n",
              "</table>\n",
              "</div>"
            ],
            "text/plain": [
              "                          status_id status_type  ... Column3  Column4\n",
              "0  246675545449582_1649696485147474       video  ...     NaN      NaN\n",
              "1  246675545449582_1649426988507757       photo  ...     NaN      NaN\n",
              "2  246675545449582_1648730588577397       video  ...     NaN      NaN\n",
              "3  246675545449582_1648576705259452       photo  ...     NaN      NaN\n",
              "4  246675545449582_1645700502213739       photo  ...     NaN      NaN\n",
              "\n",
              "[5 rows x 16 columns]"
            ]
          },
          "metadata": {
            "tags": []
          },
          "execution_count": 57
        }
      ]
    },
    {
      "cell_type": "markdown",
      "metadata": {
        "id": "TcPMNW205wxq"
      },
      "source": [
        "**Exploratory Data Analysis**"
      ]
    },
    {
      "cell_type": "code",
      "metadata": {
        "colab": {
          "base_uri": "https://localhost:8080/",
          "height": 297
        },
        "id": "zPSi4R3q5ykw",
        "outputId": "3e085e75-56e7-4991-cfa2-dc01b18d72c1"
      },
      "source": [
        "df.describe()"
      ],
      "execution_count": 58,
      "outputs": [
        {
          "output_type": "execute_result",
          "data": {
            "text/html": [
              "<div>\n",
              "<style scoped>\n",
              "    .dataframe tbody tr th:only-of-type {\n",
              "        vertical-align: middle;\n",
              "    }\n",
              "\n",
              "    .dataframe tbody tr th {\n",
              "        vertical-align: top;\n",
              "    }\n",
              "\n",
              "    .dataframe thead th {\n",
              "        text-align: right;\n",
              "    }\n",
              "</style>\n",
              "<table border=\"1\" class=\"dataframe\">\n",
              "  <thead>\n",
              "    <tr style=\"text-align: right;\">\n",
              "      <th></th>\n",
              "      <th>num_reactions</th>\n",
              "      <th>num_comments</th>\n",
              "      <th>num_shares</th>\n",
              "      <th>num_likes</th>\n",
              "      <th>num_loves</th>\n",
              "      <th>num_wows</th>\n",
              "      <th>num_hahas</th>\n",
              "      <th>num_sads</th>\n",
              "      <th>num_angrys</th>\n",
              "      <th>Column1</th>\n",
              "      <th>Column2</th>\n",
              "      <th>Column3</th>\n",
              "      <th>Column4</th>\n",
              "    </tr>\n",
              "  </thead>\n",
              "  <tbody>\n",
              "    <tr>\n",
              "      <th>count</th>\n",
              "      <td>7050.000000</td>\n",
              "      <td>7050.000000</td>\n",
              "      <td>7050.000000</td>\n",
              "      <td>7050.000000</td>\n",
              "      <td>7050.000000</td>\n",
              "      <td>7050.000000</td>\n",
              "      <td>7050.000000</td>\n",
              "      <td>7050.000000</td>\n",
              "      <td>7050.000000</td>\n",
              "      <td>0.0</td>\n",
              "      <td>0.0</td>\n",
              "      <td>0.0</td>\n",
              "      <td>0.0</td>\n",
              "    </tr>\n",
              "    <tr>\n",
              "      <th>mean</th>\n",
              "      <td>230.117163</td>\n",
              "      <td>224.356028</td>\n",
              "      <td>40.022553</td>\n",
              "      <td>215.043121</td>\n",
              "      <td>12.728652</td>\n",
              "      <td>1.289362</td>\n",
              "      <td>0.696454</td>\n",
              "      <td>0.243688</td>\n",
              "      <td>0.113191</td>\n",
              "      <td>NaN</td>\n",
              "      <td>NaN</td>\n",
              "      <td>NaN</td>\n",
              "      <td>NaN</td>\n",
              "    </tr>\n",
              "    <tr>\n",
              "      <th>std</th>\n",
              "      <td>462.625309</td>\n",
              "      <td>889.636820</td>\n",
              "      <td>131.599965</td>\n",
              "      <td>449.472357</td>\n",
              "      <td>39.972930</td>\n",
              "      <td>8.719650</td>\n",
              "      <td>3.957183</td>\n",
              "      <td>1.597156</td>\n",
              "      <td>0.726812</td>\n",
              "      <td>NaN</td>\n",
              "      <td>NaN</td>\n",
              "      <td>NaN</td>\n",
              "      <td>NaN</td>\n",
              "    </tr>\n",
              "    <tr>\n",
              "      <th>min</th>\n",
              "      <td>0.000000</td>\n",
              "      <td>0.000000</td>\n",
              "      <td>0.000000</td>\n",
              "      <td>0.000000</td>\n",
              "      <td>0.000000</td>\n",
              "      <td>0.000000</td>\n",
              "      <td>0.000000</td>\n",
              "      <td>0.000000</td>\n",
              "      <td>0.000000</td>\n",
              "      <td>NaN</td>\n",
              "      <td>NaN</td>\n",
              "      <td>NaN</td>\n",
              "      <td>NaN</td>\n",
              "    </tr>\n",
              "    <tr>\n",
              "      <th>25%</th>\n",
              "      <td>17.000000</td>\n",
              "      <td>0.000000</td>\n",
              "      <td>0.000000</td>\n",
              "      <td>17.000000</td>\n",
              "      <td>0.000000</td>\n",
              "      <td>0.000000</td>\n",
              "      <td>0.000000</td>\n",
              "      <td>0.000000</td>\n",
              "      <td>0.000000</td>\n",
              "      <td>NaN</td>\n",
              "      <td>NaN</td>\n",
              "      <td>NaN</td>\n",
              "      <td>NaN</td>\n",
              "    </tr>\n",
              "    <tr>\n",
              "      <th>50%</th>\n",
              "      <td>59.500000</td>\n",
              "      <td>4.000000</td>\n",
              "      <td>0.000000</td>\n",
              "      <td>58.000000</td>\n",
              "      <td>0.000000</td>\n",
              "      <td>0.000000</td>\n",
              "      <td>0.000000</td>\n",
              "      <td>0.000000</td>\n",
              "      <td>0.000000</td>\n",
              "      <td>NaN</td>\n",
              "      <td>NaN</td>\n",
              "      <td>NaN</td>\n",
              "      <td>NaN</td>\n",
              "    </tr>\n",
              "    <tr>\n",
              "      <th>75%</th>\n",
              "      <td>219.000000</td>\n",
              "      <td>23.000000</td>\n",
              "      <td>4.000000</td>\n",
              "      <td>184.750000</td>\n",
              "      <td>3.000000</td>\n",
              "      <td>0.000000</td>\n",
              "      <td>0.000000</td>\n",
              "      <td>0.000000</td>\n",
              "      <td>0.000000</td>\n",
              "      <td>NaN</td>\n",
              "      <td>NaN</td>\n",
              "      <td>NaN</td>\n",
              "      <td>NaN</td>\n",
              "    </tr>\n",
              "    <tr>\n",
              "      <th>max</th>\n",
              "      <td>4710.000000</td>\n",
              "      <td>20990.000000</td>\n",
              "      <td>3424.000000</td>\n",
              "      <td>4710.000000</td>\n",
              "      <td>657.000000</td>\n",
              "      <td>278.000000</td>\n",
              "      <td>157.000000</td>\n",
              "      <td>51.000000</td>\n",
              "      <td>31.000000</td>\n",
              "      <td>NaN</td>\n",
              "      <td>NaN</td>\n",
              "      <td>NaN</td>\n",
              "      <td>NaN</td>\n",
              "    </tr>\n",
              "  </tbody>\n",
              "</table>\n",
              "</div>"
            ],
            "text/plain": [
              "       num_reactions  num_comments   num_shares  ...  Column2  Column3  Column4\n",
              "count    7050.000000   7050.000000  7050.000000  ...      0.0      0.0      0.0\n",
              "mean      230.117163    224.356028    40.022553  ...      NaN      NaN      NaN\n",
              "std       462.625309    889.636820   131.599965  ...      NaN      NaN      NaN\n",
              "min         0.000000      0.000000     0.000000  ...      NaN      NaN      NaN\n",
              "25%        17.000000      0.000000     0.000000  ...      NaN      NaN      NaN\n",
              "50%        59.500000      4.000000     0.000000  ...      NaN      NaN      NaN\n",
              "75%       219.000000     23.000000     4.000000  ...      NaN      NaN      NaN\n",
              "max      4710.000000  20990.000000  3424.000000  ...      NaN      NaN      NaN\n",
              "\n",
              "[8 rows x 13 columns]"
            ]
          },
          "metadata": {
            "tags": []
          },
          "execution_count": 58
        }
      ]
    },
    {
      "cell_type": "code",
      "metadata": {
        "colab": {
          "base_uri": "https://localhost:8080/"
        },
        "id": "2vevg11Z54L5",
        "outputId": "cb022795-6556-4e1b-a9c5-a23a7b373b44"
      },
      "source": [
        "df.info()"
      ],
      "execution_count": 59,
      "outputs": [
        {
          "output_type": "stream",
          "text": [
            "<class 'pandas.core.frame.DataFrame'>\n",
            "RangeIndex: 7050 entries, 0 to 7049\n",
            "Data columns (total 16 columns):\n",
            " #   Column            Non-Null Count  Dtype  \n",
            "---  ------            --------------  -----  \n",
            " 0   status_id         7050 non-null   object \n",
            " 1   status_type       7050 non-null   object \n",
            " 2   status_published  7050 non-null   object \n",
            " 3   num_reactions     7050 non-null   int64  \n",
            " 4   num_comments      7050 non-null   int64  \n",
            " 5   num_shares        7050 non-null   int64  \n",
            " 6   num_likes         7050 non-null   int64  \n",
            " 7   num_loves         7050 non-null   int64  \n",
            " 8   num_wows          7050 non-null   int64  \n",
            " 9   num_hahas         7050 non-null   int64  \n",
            " 10  num_sads          7050 non-null   int64  \n",
            " 11  num_angrys        7050 non-null   int64  \n",
            " 12  Column1           0 non-null      float64\n",
            " 13  Column2           0 non-null      float64\n",
            " 14  Column3           0 non-null      float64\n",
            " 15  Column4           0 non-null      float64\n",
            "dtypes: float64(4), int64(9), object(3)\n",
            "memory usage: 881.4+ KB\n"
          ],
          "name": "stdout"
        }
      ]
    },
    {
      "cell_type": "code",
      "metadata": {
        "colab": {
          "base_uri": "https://localhost:8080/"
        },
        "id": "yWfiVbmH58v3",
        "outputId": "a7534800-ebda-4d2b-88ce-d0beb0af215a"
      },
      "source": [
        "df.isnull().sum()"
      ],
      "execution_count": 60,
      "outputs": [
        {
          "output_type": "execute_result",
          "data": {
            "text/plain": [
              "status_id              0\n",
              "status_type            0\n",
              "status_published       0\n",
              "num_reactions          0\n",
              "num_comments           0\n",
              "num_shares             0\n",
              "num_likes              0\n",
              "num_loves              0\n",
              "num_wows               0\n",
              "num_hahas              0\n",
              "num_sads               0\n",
              "num_angrys             0\n",
              "Column1             7050\n",
              "Column2             7050\n",
              "Column3             7050\n",
              "Column4             7050\n",
              "dtype: int64"
            ]
          },
          "metadata": {
            "tags": []
          },
          "execution_count": 60
        }
      ]
    },
    {
      "cell_type": "markdown",
      "metadata": {
        "id": "VtG1Dmuh6QBr"
      },
      "source": [
        "Drop missing values"
      ]
    },
    {
      "cell_type": "code",
      "metadata": {
        "id": "JNTSnG5F6RL2"
      },
      "source": [
        "df.drop(['Column1', 'Column2', 'Column3', 'Column4'], axis=1, inplace=True)"
      ],
      "execution_count": 61,
      "outputs": []
    },
    {
      "cell_type": "code",
      "metadata": {
        "colab": {
          "base_uri": "https://localhost:8080/",
          "height": 204
        },
        "id": "EKBF7hX96eng",
        "outputId": "08437838-d592-47f5-b285-26690558c81f"
      },
      "source": [
        "df.head()"
      ],
      "execution_count": 62,
      "outputs": [
        {
          "output_type": "execute_result",
          "data": {
            "text/html": [
              "<div>\n",
              "<style scoped>\n",
              "    .dataframe tbody tr th:only-of-type {\n",
              "        vertical-align: middle;\n",
              "    }\n",
              "\n",
              "    .dataframe tbody tr th {\n",
              "        vertical-align: top;\n",
              "    }\n",
              "\n",
              "    .dataframe thead th {\n",
              "        text-align: right;\n",
              "    }\n",
              "</style>\n",
              "<table border=\"1\" class=\"dataframe\">\n",
              "  <thead>\n",
              "    <tr style=\"text-align: right;\">\n",
              "      <th></th>\n",
              "      <th>status_id</th>\n",
              "      <th>status_type</th>\n",
              "      <th>status_published</th>\n",
              "      <th>num_reactions</th>\n",
              "      <th>num_comments</th>\n",
              "      <th>num_shares</th>\n",
              "      <th>num_likes</th>\n",
              "      <th>num_loves</th>\n",
              "      <th>num_wows</th>\n",
              "      <th>num_hahas</th>\n",
              "      <th>num_sads</th>\n",
              "      <th>num_angrys</th>\n",
              "    </tr>\n",
              "  </thead>\n",
              "  <tbody>\n",
              "    <tr>\n",
              "      <th>0</th>\n",
              "      <td>246675545449582_1649696485147474</td>\n",
              "      <td>video</td>\n",
              "      <td>4/22/2018 6:00</td>\n",
              "      <td>529</td>\n",
              "      <td>512</td>\n",
              "      <td>262</td>\n",
              "      <td>432</td>\n",
              "      <td>92</td>\n",
              "      <td>3</td>\n",
              "      <td>1</td>\n",
              "      <td>1</td>\n",
              "      <td>0</td>\n",
              "    </tr>\n",
              "    <tr>\n",
              "      <th>1</th>\n",
              "      <td>246675545449582_1649426988507757</td>\n",
              "      <td>photo</td>\n",
              "      <td>4/21/2018 22:45</td>\n",
              "      <td>150</td>\n",
              "      <td>0</td>\n",
              "      <td>0</td>\n",
              "      <td>150</td>\n",
              "      <td>0</td>\n",
              "      <td>0</td>\n",
              "      <td>0</td>\n",
              "      <td>0</td>\n",
              "      <td>0</td>\n",
              "    </tr>\n",
              "    <tr>\n",
              "      <th>2</th>\n",
              "      <td>246675545449582_1648730588577397</td>\n",
              "      <td>video</td>\n",
              "      <td>4/21/2018 6:17</td>\n",
              "      <td>227</td>\n",
              "      <td>236</td>\n",
              "      <td>57</td>\n",
              "      <td>204</td>\n",
              "      <td>21</td>\n",
              "      <td>1</td>\n",
              "      <td>1</td>\n",
              "      <td>0</td>\n",
              "      <td>0</td>\n",
              "    </tr>\n",
              "    <tr>\n",
              "      <th>3</th>\n",
              "      <td>246675545449582_1648576705259452</td>\n",
              "      <td>photo</td>\n",
              "      <td>4/21/2018 2:29</td>\n",
              "      <td>111</td>\n",
              "      <td>0</td>\n",
              "      <td>0</td>\n",
              "      <td>111</td>\n",
              "      <td>0</td>\n",
              "      <td>0</td>\n",
              "      <td>0</td>\n",
              "      <td>0</td>\n",
              "      <td>0</td>\n",
              "    </tr>\n",
              "    <tr>\n",
              "      <th>4</th>\n",
              "      <td>246675545449582_1645700502213739</td>\n",
              "      <td>photo</td>\n",
              "      <td>4/18/2018 3:22</td>\n",
              "      <td>213</td>\n",
              "      <td>0</td>\n",
              "      <td>0</td>\n",
              "      <td>204</td>\n",
              "      <td>9</td>\n",
              "      <td>0</td>\n",
              "      <td>0</td>\n",
              "      <td>0</td>\n",
              "      <td>0</td>\n",
              "    </tr>\n",
              "  </tbody>\n",
              "</table>\n",
              "</div>"
            ],
            "text/plain": [
              "                          status_id status_type  ... num_sads  num_angrys\n",
              "0  246675545449582_1649696485147474       video  ...        1           0\n",
              "1  246675545449582_1649426988507757       photo  ...        0           0\n",
              "2  246675545449582_1648730588577397       video  ...        0           0\n",
              "3  246675545449582_1648576705259452       photo  ...        0           0\n",
              "4  246675545449582_1645700502213739       photo  ...        0           0\n",
              "\n",
              "[5 rows x 12 columns]"
            ]
          },
          "metadata": {
            "tags": []
          },
          "execution_count": 62
        }
      ]
    },
    {
      "cell_type": "code",
      "metadata": {
        "id": "sgpaz0w868Sl"
      },
      "source": [
        "#drop unneeded categorial variables\n",
        "df.drop(['status_id', 'status_published'], axis=1, inplace=True)"
      ],
      "execution_count": 63,
      "outputs": []
    },
    {
      "cell_type": "code",
      "metadata": {
        "colab": {
          "base_uri": "https://localhost:8080/",
          "height": 669
        },
        "id": "Yw4vxAQ77D0U",
        "outputId": "521898bb-e4de-465d-99f6-87929e797b2b"
      },
      "source": [
        "df.head()"
      ],
      "execution_count": 64,
      "outputs": [
        {
          "output_type": "execute_result",
          "data": {
            "text/html": [
              "<div>\n",
              "<style scoped>\n",
              "    .dataframe tbody tr th:only-of-type {\n",
              "        vertical-align: middle;\n",
              "    }\n",
              "\n",
              "    .dataframe tbody tr th {\n",
              "        vertical-align: top;\n",
              "    }\n",
              "\n",
              "    .dataframe thead th {\n",
              "        text-align: right;\n",
              "    }\n",
              "</style>\n",
              "<table border=\"1\" class=\"dataframe\">\n",
              "  <thead>\n",
              "    <tr style=\"text-align: right;\">\n",
              "      <th></th>\n",
              "      <th>status_type</th>\n",
              "      <th>num_reactions</th>\n",
              "      <th>num_comments</th>\n",
              "      <th>num_shares</th>\n",
              "      <th>num_likes</th>\n",
              "      <th>num_loves</th>\n",
              "      <th>num_wows</th>\n",
              "      <th>num_hahas</th>\n",
              "      <th>num_sads</th>\n",
              "      <th>num_angrys</th>\n",
              "    </tr>\n",
              "  </thead>\n",
              "  <tbody>\n",
              "    <tr>\n",
              "      <th>0</th>\n",
              "      <td>video</td>\n",
              "      <td>529</td>\n",
              "      <td>512</td>\n",
              "      <td>262</td>\n",
              "      <td>432</td>\n",
              "      <td>92</td>\n",
              "      <td>3</td>\n",
              "      <td>1</td>\n",
              "      <td>1</td>\n",
              "      <td>0</td>\n",
              "    </tr>\n",
              "    <tr>\n",
              "      <th>1</th>\n",
              "      <td>photo</td>\n",
              "      <td>150</td>\n",
              "      <td>0</td>\n",
              "      <td>0</td>\n",
              "      <td>150</td>\n",
              "      <td>0</td>\n",
              "      <td>0</td>\n",
              "      <td>0</td>\n",
              "      <td>0</td>\n",
              "      <td>0</td>\n",
              "    </tr>\n",
              "    <tr>\n",
              "      <th>2</th>\n",
              "      <td>video</td>\n",
              "      <td>227</td>\n",
              "      <td>236</td>\n",
              "      <td>57</td>\n",
              "      <td>204</td>\n",
              "      <td>21</td>\n",
              "      <td>1</td>\n",
              "      <td>1</td>\n",
              "      <td>0</td>\n",
              "      <td>0</td>\n",
              "    </tr>\n",
              "    <tr>\n",
              "      <th>3</th>\n",
              "      <td>photo</td>\n",
              "      <td>111</td>\n",
              "      <td>0</td>\n",
              "      <td>0</td>\n",
              "      <td>111</td>\n",
              "      <td>0</td>\n",
              "      <td>0</td>\n",
              "      <td>0</td>\n",
              "      <td>0</td>\n",
              "      <td>0</td>\n",
              "    </tr>\n",
              "    <tr>\n",
              "      <th>4</th>\n",
              "      <td>photo</td>\n",
              "      <td>213</td>\n",
              "      <td>0</td>\n",
              "      <td>0</td>\n",
              "      <td>204</td>\n",
              "      <td>9</td>\n",
              "      <td>0</td>\n",
              "      <td>0</td>\n",
              "      <td>0</td>\n",
              "      <td>0</td>\n",
              "    </tr>\n",
              "    <tr>\n",
              "      <th>5</th>\n",
              "      <td>photo</td>\n",
              "      <td>217</td>\n",
              "      <td>6</td>\n",
              "      <td>0</td>\n",
              "      <td>211</td>\n",
              "      <td>5</td>\n",
              "      <td>1</td>\n",
              "      <td>0</td>\n",
              "      <td>0</td>\n",
              "      <td>0</td>\n",
              "    </tr>\n",
              "    <tr>\n",
              "      <th>6</th>\n",
              "      <td>video</td>\n",
              "      <td>503</td>\n",
              "      <td>614</td>\n",
              "      <td>72</td>\n",
              "      <td>418</td>\n",
              "      <td>70</td>\n",
              "      <td>10</td>\n",
              "      <td>2</td>\n",
              "      <td>0</td>\n",
              "      <td>3</td>\n",
              "    </tr>\n",
              "    <tr>\n",
              "      <th>7</th>\n",
              "      <td>video</td>\n",
              "      <td>295</td>\n",
              "      <td>453</td>\n",
              "      <td>53</td>\n",
              "      <td>260</td>\n",
              "      <td>32</td>\n",
              "      <td>1</td>\n",
              "      <td>1</td>\n",
              "      <td>0</td>\n",
              "      <td>1</td>\n",
              "    </tr>\n",
              "    <tr>\n",
              "      <th>8</th>\n",
              "      <td>photo</td>\n",
              "      <td>203</td>\n",
              "      <td>1</td>\n",
              "      <td>0</td>\n",
              "      <td>198</td>\n",
              "      <td>5</td>\n",
              "      <td>0</td>\n",
              "      <td>0</td>\n",
              "      <td>0</td>\n",
              "      <td>0</td>\n",
              "    </tr>\n",
              "    <tr>\n",
              "      <th>9</th>\n",
              "      <td>photo</td>\n",
              "      <td>170</td>\n",
              "      <td>9</td>\n",
              "      <td>1</td>\n",
              "      <td>167</td>\n",
              "      <td>3</td>\n",
              "      <td>0</td>\n",
              "      <td>0</td>\n",
              "      <td>0</td>\n",
              "      <td>0</td>\n",
              "    </tr>\n",
              "    <tr>\n",
              "      <th>10</th>\n",
              "      <td>photo</td>\n",
              "      <td>210</td>\n",
              "      <td>2</td>\n",
              "      <td>3</td>\n",
              "      <td>202</td>\n",
              "      <td>7</td>\n",
              "      <td>1</td>\n",
              "      <td>0</td>\n",
              "      <td>0</td>\n",
              "      <td>0</td>\n",
              "    </tr>\n",
              "    <tr>\n",
              "      <th>11</th>\n",
              "      <td>photo</td>\n",
              "      <td>222</td>\n",
              "      <td>4</td>\n",
              "      <td>0</td>\n",
              "      <td>213</td>\n",
              "      <td>5</td>\n",
              "      <td>4</td>\n",
              "      <td>0</td>\n",
              "      <td>0</td>\n",
              "      <td>0</td>\n",
              "    </tr>\n",
              "    <tr>\n",
              "      <th>12</th>\n",
              "      <td>photo</td>\n",
              "      <td>313</td>\n",
              "      <td>4</td>\n",
              "      <td>2</td>\n",
              "      <td>305</td>\n",
              "      <td>6</td>\n",
              "      <td>2</td>\n",
              "      <td>0</td>\n",
              "      <td>0</td>\n",
              "      <td>0</td>\n",
              "    </tr>\n",
              "    <tr>\n",
              "      <th>13</th>\n",
              "      <td>photo</td>\n",
              "      <td>209</td>\n",
              "      <td>4</td>\n",
              "      <td>0</td>\n",
              "      <td>200</td>\n",
              "      <td>8</td>\n",
              "      <td>1</td>\n",
              "      <td>0</td>\n",
              "      <td>0</td>\n",
              "      <td>0</td>\n",
              "    </tr>\n",
              "    <tr>\n",
              "      <th>14</th>\n",
              "      <td>photo</td>\n",
              "      <td>346</td>\n",
              "      <td>11</td>\n",
              "      <td>0</td>\n",
              "      <td>335</td>\n",
              "      <td>10</td>\n",
              "      <td>1</td>\n",
              "      <td>0</td>\n",
              "      <td>0</td>\n",
              "      <td>0</td>\n",
              "    </tr>\n",
              "    <tr>\n",
              "      <th>15</th>\n",
              "      <td>video</td>\n",
              "      <td>332</td>\n",
              "      <td>100</td>\n",
              "      <td>30</td>\n",
              "      <td>303</td>\n",
              "      <td>23</td>\n",
              "      <td>1</td>\n",
              "      <td>5</td>\n",
              "      <td>0</td>\n",
              "      <td>0</td>\n",
              "    </tr>\n",
              "    <tr>\n",
              "      <th>16</th>\n",
              "      <td>video</td>\n",
              "      <td>135</td>\n",
              "      <td>256</td>\n",
              "      <td>79</td>\n",
              "      <td>117</td>\n",
              "      <td>18</td>\n",
              "      <td>0</td>\n",
              "      <td>0</td>\n",
              "      <td>0</td>\n",
              "      <td>0</td>\n",
              "    </tr>\n",
              "    <tr>\n",
              "      <th>17</th>\n",
              "      <td>video</td>\n",
              "      <td>150</td>\n",
              "      <td>173</td>\n",
              "      <td>47</td>\n",
              "      <td>132</td>\n",
              "      <td>16</td>\n",
              "      <td>1</td>\n",
              "      <td>0</td>\n",
              "      <td>1</td>\n",
              "      <td>0</td>\n",
              "    </tr>\n",
              "    <tr>\n",
              "      <th>18</th>\n",
              "      <td>video</td>\n",
              "      <td>221</td>\n",
              "      <td>166</td>\n",
              "      <td>36</td>\n",
              "      <td>192</td>\n",
              "      <td>28</td>\n",
              "      <td>0</td>\n",
              "      <td>1</td>\n",
              "      <td>0</td>\n",
              "      <td>0</td>\n",
              "    </tr>\n",
              "    <tr>\n",
              "      <th>19</th>\n",
              "      <td>photo</td>\n",
              "      <td>152</td>\n",
              "      <td>2</td>\n",
              "      <td>0</td>\n",
              "      <td>149</td>\n",
              "      <td>3</td>\n",
              "      <td>0</td>\n",
              "      <td>0</td>\n",
              "      <td>0</td>\n",
              "      <td>0</td>\n",
              "    </tr>\n",
              "  </tbody>\n",
              "</table>\n",
              "</div>"
            ],
            "text/plain": [
              "   status_type  num_reactions  num_comments  ...  num_hahas  num_sads  num_angrys\n",
              "0        video            529           512  ...          1         1           0\n",
              "1        photo            150             0  ...          0         0           0\n",
              "2        video            227           236  ...          1         0           0\n",
              "3        photo            111             0  ...          0         0           0\n",
              "4        photo            213             0  ...          0         0           0\n",
              "5        photo            217             6  ...          0         0           0\n",
              "6        video            503           614  ...          2         0           3\n",
              "7        video            295           453  ...          1         0           1\n",
              "8        photo            203             1  ...          0         0           0\n",
              "9        photo            170             9  ...          0         0           0\n",
              "10       photo            210             2  ...          0         0           0\n",
              "11       photo            222             4  ...          0         0           0\n",
              "12       photo            313             4  ...          0         0           0\n",
              "13       photo            209             4  ...          0         0           0\n",
              "14       photo            346            11  ...          0         0           0\n",
              "15       video            332           100  ...          5         0           0\n",
              "16       video            135           256  ...          0         0           0\n",
              "17       video            150           173  ...          0         1           0\n",
              "18       video            221           166  ...          1         0           0\n",
              "19       photo            152             2  ...          0         0           0\n",
              "\n",
              "[20 rows x 10 columns]"
            ]
          },
          "metadata": {
            "tags": []
          },
          "execution_count": 64
        }
      ]
    },
    {
      "cell_type": "markdown",
      "metadata": {
        "id": "JunpR7AXgLJZ"
      },
      "source": [
        "**Visualize the Data**"
      ]
    },
    {
      "cell_type": "code",
      "metadata": {
        "colab": {
          "base_uri": "https://localhost:8080/",
          "height": 1000
        },
        "id": "spV4EQ5nf_GC",
        "outputId": "7020bfbe-5800-4ee8-b3a3-42b8960dfd6e"
      },
      "source": [
        "#barplot\n",
        "df.groupby('status_type').sum().plot(kind='bar', y='num_reactions')\n",
        "df.groupby('status_type').sum().plot(kind='bar', y='num_comments')\n",
        "df.groupby('status_type').sum().plot(kind='bar', y='num_shares')\n",
        "df.groupby('status_type').sum().plot(kind='bar', y='num_likes')\n",
        "df.groupby('status_type').sum().plot(kind='bar', y='num_loves')\n",
        "df.groupby('status_type').sum().plot(kind='bar', y='num_wows')\n",
        "df.groupby('status_type').sum().plot(kind='bar', y='num_hahas')\n",
        "df.groupby('status_type').sum().plot(kind='bar', y='num_sads')\n",
        "df.groupby('status_type').sum().plot(kind='bar', y='num_angrys')"
      ],
      "execution_count": 65,
      "outputs": [
        {
          "output_type": "execute_result",
          "data": {
            "text/plain": [
              "<matplotlib.axes._subplots.AxesSubplot at 0x7efff5e46cc0>"
            ]
          },
          "metadata": {
            "tags": []
          },
          "execution_count": 65
        },
        {
          "output_type": "display_data",
          "data": {
            "image/png": "[encoded data removed]",
            "text/plain": [
              "<Figure size 432x288 with 1 Axes>"
            ]
          },
          "metadata": {
            "tags": [],
            "needs_background": "light"
          }
        },
        {
          "output_type": "display_data",
          "data": {
            "image/png": "[encoded data removed]",
            "text/plain": [
              "<Figure size 432x288 with 1 Axes>"
            ]
          },
          "metadata": {
            "tags": [],
            "needs_background": "light"
          }
        },
        {
          "output_type": "display_data",
          "data": {
            "image/png": "[encoded data removed]",
            "text/plain": [
              "<Figure size 432x288 with 1 Axes>"
            ]
          },
          "metadata": {
            "tags": [],
            "needs_background": "light"
          }
        },
        {
          "output_type": "display_data",
          "data": {
            "image/png": "[encoded data removed]",
            "text/plain": [
              "<Figure size 432x288 with 1 Axes>"
            ]
          },
          "metadata": {
            "tags": [],
            "needs_background": "light"
          }
        },
        {
          "output_type": "display_data",
          "data": {
            "image/png": "[encoded data removed]",
            "text/plain": [
              "<Figure size 432x288 with 1 Axes>"
            ]
          },
          "metadata": {
            "tags": [],
            "needs_background": "light"
          }
        },
        {
          "output_type": "display_data",
          "data": {
            "image/png": "[encoded data removed]",
            "text/plain": [
              "<Figure size 432x288 with 1 Axes>"
            ]
          },
          "metadata": {
            "tags": [],
            "needs_background": "light"
          }
        },
        {
          "output_type": "display_data",
          "data": {
            "image/png": "[encoded data removed]",
            "text/plain": [
              "<Figure size 432x288 with 1 Axes>"
            ]
          },
          "metadata": {
            "tags": [],
            "needs_background": "light"
          }
        },
        {
          "output_type": "display_data",
          "data": {
            "image/png": "[encoded data removed]",
            "text/plain": [
              "<Figure size 432x288 with 1 Axes>"
            ]
          },
          "metadata": {
            "tags": [],
            "needs_background": "light"
          }
        },
        {
          "output_type": "display_data",
          "data": {
            "image/png": "[encoded data removed]",
            "text/plain": [
              "<Figure size 432x288 with 1 Axes>"
            ]
          },
          "metadata": {
            "tags": [],
            "needs_background": "light"
          }
        }
      ]
    },
    {
      "cell_type": "markdown",
      "metadata": {
        "id": "-wrijufgLJ_3"
      },
      "source": [
        "**Encode Categorical Variables**"
      ]
    },
    {
      "cell_type": "code",
      "metadata": {
        "colab": {
          "base_uri": "https://localhost:8080/",
          "height": 204
        },
        "id": "CRD5aE8vKdmJ",
        "outputId": "98be98ea-f60e-4323-f649-44cbd3349007"
      },
      "source": [
        "# label encoding the data \n",
        "from sklearn.preprocessing import LabelEncoder \n",
        "  \n",
        "le = LabelEncoder() \n",
        "  \n",
        "df['status_type']= le.fit_transform(df['status_type']) \n",
        "\n",
        "df.head()"
      ],
      "execution_count": 66,
      "outputs": [
        {
          "output_type": "execute_result",
          "data": {
            "text/html": [
              "<div>\n",
              "<style scoped>\n",
              "    .dataframe tbody tr th:only-of-type {\n",
              "        vertical-align: middle;\n",
              "    }\n",
              "\n",
              "    .dataframe tbody tr th {\n",
              "        vertical-align: top;\n",
              "    }\n",
              "\n",
              "    .dataframe thead th {\n",
              "        text-align: right;\n",
              "    }\n",
              "</style>\n",
              "<table border=\"1\" class=\"dataframe\">\n",
              "  <thead>\n",
              "    <tr style=\"text-align: right;\">\n",
              "      <th></th>\n",
              "      <th>status_type</th>\n",
              "      <th>num_reactions</th>\n",
              "      <th>num_comments</th>\n",
              "      <th>num_shares</th>\n",
              "      <th>num_likes</th>\n",
              "      <th>num_loves</th>\n",
              "      <th>num_wows</th>\n",
              "      <th>num_hahas</th>\n",
              "      <th>num_sads</th>\n",
              "      <th>num_angrys</th>\n",
              "    </tr>\n",
              "  </thead>\n",
              "  <tbody>\n",
              "    <tr>\n",
              "      <th>0</th>\n",
              "      <td>3</td>\n",
              "      <td>529</td>\n",
              "      <td>512</td>\n",
              "      <td>262</td>\n",
              "      <td>432</td>\n",
              "      <td>92</td>\n",
              "      <td>3</td>\n",
              "      <td>1</td>\n",
              "      <td>1</td>\n",
              "      <td>0</td>\n",
              "    </tr>\n",
              "    <tr>\n",
              "      <th>1</th>\n",
              "      <td>1</td>\n",
              "      <td>150</td>\n",
              "      <td>0</td>\n",
              "      <td>0</td>\n",
              "      <td>150</td>\n",
              "      <td>0</td>\n",
              "      <td>0</td>\n",
              "      <td>0</td>\n",
              "      <td>0</td>\n",
              "      <td>0</td>\n",
              "    </tr>\n",
              "    <tr>\n",
              "      <th>2</th>\n",
              "      <td>3</td>\n",
              "      <td>227</td>\n",
              "      <td>236</td>\n",
              "      <td>57</td>\n",
              "      <td>204</td>\n",
              "      <td>21</td>\n",
              "      <td>1</td>\n",
              "      <td>1</td>\n",
              "      <td>0</td>\n",
              "      <td>0</td>\n",
              "    </tr>\n",
              "    <tr>\n",
              "      <th>3</th>\n",
              "      <td>1</td>\n",
              "      <td>111</td>\n",
              "      <td>0</td>\n",
              "      <td>0</td>\n",
              "      <td>111</td>\n",
              "      <td>0</td>\n",
              "      <td>0</td>\n",
              "      <td>0</td>\n",
              "      <td>0</td>\n",
              "      <td>0</td>\n",
              "    </tr>\n",
              "    <tr>\n",
              "      <th>4</th>\n",
              "      <td>1</td>\n",
              "      <td>213</td>\n",
              "      <td>0</td>\n",
              "      <td>0</td>\n",
              "      <td>204</td>\n",
              "      <td>9</td>\n",
              "      <td>0</td>\n",
              "      <td>0</td>\n",
              "      <td>0</td>\n",
              "      <td>0</td>\n",
              "    </tr>\n",
              "  </tbody>\n",
              "</table>\n",
              "</div>"
            ],
            "text/plain": [
              "   status_type  num_reactions  num_comments  ...  num_hahas  num_sads  num_angrys\n",
              "0            3            529           512  ...          1         1           0\n",
              "1            1            150             0  ...          0         0           0\n",
              "2            3            227           236  ...          1         0           0\n",
              "3            1            111             0  ...          0         0           0\n",
              "4            1            213             0  ...          0         0           0\n",
              "\n",
              "[5 rows x 10 columns]"
            ]
          },
          "metadata": {
            "tags": []
          },
          "execution_count": 66
        }
      ]
    },
    {
      "cell_type": "code",
      "metadata": {
        "id": "qpHDoxfIjgpV"
      },
      "source": [
        "df.to_csv('/gdrive/My Drive/Data Projects/Marketing Analytics/Personal Projects/Encoding.csv')"
      ],
      "execution_count": 67,
      "outputs": []
    },
    {
      "cell_type": "markdown",
      "metadata": {
        "id": "knZcJZD5LMKn"
      },
      "source": [
        "*0 = link,\n",
        "1 = photo,\n",
        "2 = status,\n",
        "3 = video*"
      ]
    },
    {
      "cell_type": "markdown",
      "metadata": {
        "id": "4bcvF2l2LZla"
      },
      "source": [
        "Standardize the columns"
      ]
    },
    {
      "cell_type": "code",
      "metadata": {
        "id": "5OuA-RiKLevO"
      },
      "source": [
        "cols = df.columns\n",
        "zcols = []\n",
        "for col in cols:\n",
        "    df['z_' + col] = (df[col] - df[col].mean())/df[col].std()\n",
        "    zcols.append('z_' + col)"
      ],
      "execution_count": 68,
      "outputs": []
    },
    {
      "cell_type": "code",
      "metadata": {
        "colab": {
          "base_uri": "https://localhost:8080/",
          "height": 224
        },
        "id": "yRklJ428LiRZ",
        "outputId": "b73899f1-d9b1-4b8a-d044-b43bf8fb9e67"
      },
      "source": [
        "df.head()"
      ],
      "execution_count": 69,
      "outputs": [
        {
          "output_type": "execute_result",
          "data": {
            "text/html": [
              "<div>\n",
              "<style scoped>\n",
              "    .dataframe tbody tr th:only-of-type {\n",
              "        vertical-align: middle;\n",
              "    }\n",
              "\n",
              "    .dataframe tbody tr th {\n",
              "        vertical-align: top;\n",
              "    }\n",
              "\n",
              "    .dataframe thead th {\n",
              "        text-align: right;\n",
              "    }\n",
              "</style>\n",
              "<table border=\"1\" class=\"dataframe\">\n",
              "  <thead>\n",
              "    <tr style=\"text-align: right;\">\n",
              "      <th></th>\n",
              "      <th>status_type</th>\n",
              "      <th>num_reactions</th>\n",
              "      <th>num_comments</th>\n",
              "      <th>num_shares</th>\n",
              "      <th>num_likes</th>\n",
              "      <th>num_loves</th>\n",
              "      <th>num_wows</th>\n",
              "      <th>num_hahas</th>\n",
              "      <th>num_sads</th>\n",
              "      <th>num_angrys</th>\n",
              "      <th>z_status_type</th>\n",
              "      <th>z_num_reactions</th>\n",
              "      <th>z_num_comments</th>\n",
              "      <th>z_num_shares</th>\n",
              "      <th>z_num_likes</th>\n",
              "      <th>z_num_loves</th>\n",
              "      <th>z_num_wows</th>\n",
              "      <th>z_num_hahas</th>\n",
              "      <th>z_num_sads</th>\n",
              "      <th>z_num_angrys</th>\n",
              "    </tr>\n",
              "  </thead>\n",
              "  <tbody>\n",
              "    <tr>\n",
              "      <th>0</th>\n",
              "      <td>3</td>\n",
              "      <td>529</td>\n",
              "      <td>512</td>\n",
              "      <td>262</td>\n",
              "      <td>432</td>\n",
              "      <td>92</td>\n",
              "      <td>3</td>\n",
              "      <td>1</td>\n",
              "      <td>1</td>\n",
              "      <td>0</td>\n",
              "      <td>1.374190</td>\n",
              "      <td>0.646058</td>\n",
              "      <td>0.323327</td>\n",
              "      <td>1.686759</td>\n",
              "      <td>0.482692</td>\n",
              "      <td>1.983126</td>\n",
              "      <td>0.196182</td>\n",
              "      <td>0.076708</td>\n",
              "      <td>0.473537</td>\n",
              "      <td>-0.155737</td>\n",
              "    </tr>\n",
              "    <tr>\n",
              "      <th>1</th>\n",
              "      <td>1</td>\n",
              "      <td>150</td>\n",
              "      <td>0</td>\n",
              "      <td>0</td>\n",
              "      <td>150</td>\n",
              "      <td>0</td>\n",
              "      <td>0</td>\n",
              "      <td>0</td>\n",
              "      <td>0</td>\n",
              "      <td>0</td>\n",
              "      <td>-0.748053</td>\n",
              "      <td>-0.173179</td>\n",
              "      <td>-0.252188</td>\n",
              "      <td>-0.304123</td>\n",
              "      <td>-0.144710</td>\n",
              "      <td>-0.318432</td>\n",
              "      <td>-0.147869</td>\n",
              "      <td>-0.175997</td>\n",
              "      <td>-0.152576</td>\n",
              "      <td>-0.155737</td>\n",
              "    </tr>\n",
              "    <tr>\n",
              "      <th>2</th>\n",
              "      <td>3</td>\n",
              "      <td>227</td>\n",
              "      <td>236</td>\n",
              "      <td>57</td>\n",
              "      <td>204</td>\n",
              "      <td>21</td>\n",
              "      <td>1</td>\n",
              "      <td>1</td>\n",
              "      <td>0</td>\n",
              "      <td>0</td>\n",
              "      <td>1.374190</td>\n",
              "      <td>-0.006738</td>\n",
              "      <td>0.013088</td>\n",
              "      <td>0.129008</td>\n",
              "      <td>-0.024569</td>\n",
              "      <td>0.206924</td>\n",
              "      <td>-0.033185</td>\n",
              "      <td>0.076708</td>\n",
              "      <td>-0.152576</td>\n",
              "      <td>-0.155737</td>\n",
              "    </tr>\n",
              "    <tr>\n",
              "      <th>3</th>\n",
              "      <td>1</td>\n",
              "      <td>111</td>\n",
              "      <td>0</td>\n",
              "      <td>0</td>\n",
              "      <td>111</td>\n",
              "      <td>0</td>\n",
              "      <td>0</td>\n",
              "      <td>0</td>\n",
              "      <td>0</td>\n",
              "      <td>0</td>\n",
              "      <td>-0.748053</td>\n",
              "      <td>-0.257481</td>\n",
              "      <td>-0.252188</td>\n",
              "      <td>-0.304123</td>\n",
              "      <td>-0.231478</td>\n",
              "      <td>-0.318432</td>\n",
              "      <td>-0.147869</td>\n",
              "      <td>-0.175997</td>\n",
              "      <td>-0.152576</td>\n",
              "      <td>-0.155737</td>\n",
              "    </tr>\n",
              "    <tr>\n",
              "      <th>4</th>\n",
              "      <td>1</td>\n",
              "      <td>213</td>\n",
              "      <td>0</td>\n",
              "      <td>0</td>\n",
              "      <td>204</td>\n",
              "      <td>9</td>\n",
              "      <td>0</td>\n",
              "      <td>0</td>\n",
              "      <td>0</td>\n",
              "      <td>0</td>\n",
              "      <td>-0.748053</td>\n",
              "      <td>-0.037000</td>\n",
              "      <td>-0.252188</td>\n",
              "      <td>-0.304123</td>\n",
              "      <td>-0.024569</td>\n",
              "      <td>-0.093279</td>\n",
              "      <td>-0.147869</td>\n",
              "      <td>-0.175997</td>\n",
              "      <td>-0.152576</td>\n",
              "      <td>-0.155737</td>\n",
              "    </tr>\n",
              "  </tbody>\n",
              "</table>\n",
              "</div>"
            ],
            "text/plain": [
              "   status_type  num_reactions  ...  z_num_sads  z_num_angrys\n",
              "0            3            529  ...    0.473537     -0.155737\n",
              "1            1            150  ...   -0.152576     -0.155737\n",
              "2            3            227  ...   -0.152576     -0.155737\n",
              "3            1            111  ...   -0.152576     -0.155737\n",
              "4            1            213  ...   -0.152576     -0.155737\n",
              "\n",
              "[5 rows x 20 columns]"
            ]
          },
          "metadata": {
            "tags": []
          },
          "execution_count": 69
        }
      ]
    },
    {
      "cell_type": "markdown",
      "metadata": {
        "id": "ciWiJewRLlcj"
      },
      "source": [
        "**Perform K-means Clustering**"
      ]
    },
    {
      "cell_type": "code",
      "metadata": {
        "colab": {
          "base_uri": "https://localhost:8080/"
        },
        "id": "URAR32iSMJU8",
        "outputId": "b7d91146-95b6-4af7-cabd-c5398c576692"
      },
      "source": [
        "model = cluster.KMeans(n_clusters=4, random_state=10)\n",
        "model.fit(df[['z_status_type', 'z_num_reactions', 'z_num_comments', 'z_num_shares', 'z_num_likes', 'z_num_loves', 'z_num_wows', 'z_num_hahas', 'z_num_sads', 'z_num_angrys']])"
      ],
      "execution_count": 70,
      "outputs": [
        {
          "output_type": "execute_result",
          "data": {
            "text/plain": [
              "KMeans(algorithm='auto', copy_x=True, init='k-means++', max_iter=300,\n",
              "       n_clusters=4, n_init=10, n_jobs=None, precompute_distances='auto',\n",
              "       random_state=10, tol=0.0001, verbose=0)"
            ]
          },
          "metadata": {
            "tags": []
          },
          "execution_count": 70
        }
      ]
    },
    {
      "cell_type": "code",
      "metadata": {
        "colab": {
          "base_uri": "https://localhost:8080/",
          "height": 224
        },
        "id": "ZbC1MINvMhwa",
        "outputId": "2c548004-42d3-461f-bd3f-3f61290ec870"
      },
      "source": [
        "df['cluster'] = model.labels_\n",
        "df.head()"
      ],
      "execution_count": 71,
      "outputs": [
        {
          "output_type": "execute_result",
          "data": {
            "text/html": [
              "<div>\n",
              "<style scoped>\n",
              "    .dataframe tbody tr th:only-of-type {\n",
              "        vertical-align: middle;\n",
              "    }\n",
              "\n",
              "    .dataframe tbody tr th {\n",
              "        vertical-align: top;\n",
              "    }\n",
              "\n",
              "    .dataframe thead th {\n",
              "        text-align: right;\n",
              "    }\n",
              "</style>\n",
              "<table border=\"1\" class=\"dataframe\">\n",
              "  <thead>\n",
              "    <tr style=\"text-align: right;\">\n",
              "      <th></th>\n",
              "      <th>status_type</th>\n",
              "      <th>num_reactions</th>\n",
              "      <th>num_comments</th>\n",
              "      <th>num_shares</th>\n",
              "      <th>num_likes</th>\n",
              "      <th>num_loves</th>\n",
              "      <th>num_wows</th>\n",
              "      <th>num_hahas</th>\n",
              "      <th>num_sads</th>\n",
              "      <th>num_angrys</th>\n",
              "      <th>z_status_type</th>\n",
              "      <th>z_num_reactions</th>\n",
              "      <th>z_num_comments</th>\n",
              "      <th>z_num_shares</th>\n",
              "      <th>z_num_likes</th>\n",
              "      <th>z_num_loves</th>\n",
              "      <th>z_num_wows</th>\n",
              "      <th>z_num_hahas</th>\n",
              "      <th>z_num_sads</th>\n",
              "      <th>z_num_angrys</th>\n",
              "      <th>cluster</th>\n",
              "    </tr>\n",
              "  </thead>\n",
              "  <tbody>\n",
              "    <tr>\n",
              "      <th>0</th>\n",
              "      <td>3</td>\n",
              "      <td>529</td>\n",
              "      <td>512</td>\n",
              "      <td>262</td>\n",
              "      <td>432</td>\n",
              "      <td>92</td>\n",
              "      <td>3</td>\n",
              "      <td>1</td>\n",
              "      <td>1</td>\n",
              "      <td>0</td>\n",
              "      <td>1.374190</td>\n",
              "      <td>0.646058</td>\n",
              "      <td>0.323327</td>\n",
              "      <td>1.686759</td>\n",
              "      <td>0.482692</td>\n",
              "      <td>1.983126</td>\n",
              "      <td>0.196182</td>\n",
              "      <td>0.076708</td>\n",
              "      <td>0.473537</td>\n",
              "      <td>-0.155737</td>\n",
              "      <td>0</td>\n",
              "    </tr>\n",
              "    <tr>\n",
              "      <th>1</th>\n",
              "      <td>1</td>\n",
              "      <td>150</td>\n",
              "      <td>0</td>\n",
              "      <td>0</td>\n",
              "      <td>150</td>\n",
              "      <td>0</td>\n",
              "      <td>0</td>\n",
              "      <td>0</td>\n",
              "      <td>0</td>\n",
              "      <td>0</td>\n",
              "      <td>-0.748053</td>\n",
              "      <td>-0.173179</td>\n",
              "      <td>-0.252188</td>\n",
              "      <td>-0.304123</td>\n",
              "      <td>-0.144710</td>\n",
              "      <td>-0.318432</td>\n",
              "      <td>-0.147869</td>\n",
              "      <td>-0.175997</td>\n",
              "      <td>-0.152576</td>\n",
              "      <td>-0.155737</td>\n",
              "      <td>1</td>\n",
              "    </tr>\n",
              "    <tr>\n",
              "      <th>2</th>\n",
              "      <td>3</td>\n",
              "      <td>227</td>\n",
              "      <td>236</td>\n",
              "      <td>57</td>\n",
              "      <td>204</td>\n",
              "      <td>21</td>\n",
              "      <td>1</td>\n",
              "      <td>1</td>\n",
              "      <td>0</td>\n",
              "      <td>0</td>\n",
              "      <td>1.374190</td>\n",
              "      <td>-0.006738</td>\n",
              "      <td>0.013088</td>\n",
              "      <td>0.129008</td>\n",
              "      <td>-0.024569</td>\n",
              "      <td>0.206924</td>\n",
              "      <td>-0.033185</td>\n",
              "      <td>0.076708</td>\n",
              "      <td>-0.152576</td>\n",
              "      <td>-0.155737</td>\n",
              "      <td>0</td>\n",
              "    </tr>\n",
              "    <tr>\n",
              "      <th>3</th>\n",
              "      <td>1</td>\n",
              "      <td>111</td>\n",
              "      <td>0</td>\n",
              "      <td>0</td>\n",
              "      <td>111</td>\n",
              "      <td>0</td>\n",
              "      <td>0</td>\n",
              "      <td>0</td>\n",
              "      <td>0</td>\n",
              "      <td>0</td>\n",
              "      <td>-0.748053</td>\n",
              "      <td>-0.257481</td>\n",
              "      <td>-0.252188</td>\n",
              "      <td>-0.304123</td>\n",
              "      <td>-0.231478</td>\n",
              "      <td>-0.318432</td>\n",
              "      <td>-0.147869</td>\n",
              "      <td>-0.175997</td>\n",
              "      <td>-0.152576</td>\n",
              "      <td>-0.155737</td>\n",
              "      <td>1</td>\n",
              "    </tr>\n",
              "    <tr>\n",
              "      <th>4</th>\n",
              "      <td>1</td>\n",
              "      <td>213</td>\n",
              "      <td>0</td>\n",
              "      <td>0</td>\n",
              "      <td>204</td>\n",
              "      <td>9</td>\n",
              "      <td>0</td>\n",
              "      <td>0</td>\n",
              "      <td>0</td>\n",
              "      <td>0</td>\n",
              "      <td>-0.748053</td>\n",
              "      <td>-0.037000</td>\n",
              "      <td>-0.252188</td>\n",
              "      <td>-0.304123</td>\n",
              "      <td>-0.024569</td>\n",
              "      <td>-0.093279</td>\n",
              "      <td>-0.147869</td>\n",
              "      <td>-0.175997</td>\n",
              "      <td>-0.152576</td>\n",
              "      <td>-0.155737</td>\n",
              "      <td>1</td>\n",
              "    </tr>\n",
              "  </tbody>\n",
              "</table>\n",
              "</div>"
            ],
            "text/plain": [
              "   status_type  num_reactions  num_comments  ...  z_num_sads  z_num_angrys  cluster\n",
              "0            3            529           512  ...    0.473537     -0.155737        0\n",
              "1            1            150             0  ...   -0.152576     -0.155737        1\n",
              "2            3            227           236  ...   -0.152576     -0.155737        0\n",
              "3            1            111             0  ...   -0.152576     -0.155737        1\n",
              "4            1            213             0  ...   -0.152576     -0.155737        1\n",
              "\n",
              "[5 rows x 21 columns]"
            ]
          },
          "metadata": {
            "tags": []
          },
          "execution_count": 71
        }
      ]
    },
    {
      "cell_type": "markdown",
      "metadata": {
        "id": "xhUMCdq7Mnms"
      },
      "source": [
        "**Perform PCA**"
      ]
    },
    {
      "cell_type": "code",
      "metadata": {
        "id": "uKMOZavsMoi8"
      },
      "source": [
        "#define a PCA object with n_components set to 2\n",
        "pca = decomposition.PCA(n_components=2)\n",
        "\n",
        "#use this PCA oject to transform the standardized data and store the transformed dimensions in pc1 and pc2\n",
        "df['pc1'], df['pc2'] = zip(*pca.fit_transform(df[['z_status_type', 'z_num_reactions', 'z_num_comments', 'z_num_shares', 'z_num_likes', 'z_num_loves', 'z_num_wows', 'z_num_hahas', 'z_num_sads', 'z_num_angrys']]))"
      ],
      "execution_count": 72,
      "outputs": []
    },
    {
      "cell_type": "code",
      "metadata": {
        "colab": {
          "base_uri": "https://localhost:8080/",
          "height": 265
        },
        "id": "CLuOknoxMuRb",
        "outputId": "6d7158bc-0e39-44e1-9e2e-3656d77054a0"
      },
      "source": [
        "#plot the clusters in the reduced deimnsionality space \n",
        "colors = ['r', 'b', 'k', 'g'] \n",
        "markers = ['^', 'o', 'd', 's']\n",
        "\n",
        "for c in df['cluster'].unique():\n",
        "  d = df[df['cluster'] == c]\n",
        "  plt.scatter(d['pc1'], d['pc2'], marker=markers[c], color=colors[c])"
      ],
      "execution_count": 73,
      "outputs": [
        {
          "output_type": "display_data",
          "data": {
            "image/png": "[encoded data removed]",
            "text/plain": [
              "<Figure size 432x288 with 1 Axes>"
            ]
          },
          "metadata": {
            "tags": [],
            "needs_background": "light"
          }
        }
      ]
    },
    {
      "cell_type": "code",
      "metadata": {
        "colab": {
          "base_uri": "https://localhost:8080/"
        },
        "id": "66eodWJNMzRr",
        "outputId": "3b07b898-2610-4c9a-fcd9-4442bd706a7e"
      },
      "source": [
        "#look at the means of the variables of each cluster to see what the cluster is capturing\n",
        "for cluster in df['cluster'].unique():\n",
        "    print(\"Cluster: \" + str(cluster))\n",
        "    for col in ['status_type',\t'num_reactions',\t'num_comments',\t'num_shares',\t'num_likes',\t'num_loves',\t'num_wows',\t'num_hahas',\t'num_sads',\t'num_angrys']:\n",
        "        print(col + \": {:.2f}\".format(df.loc[df['cluster'] == cluster, col].mean()))"
      ],
      "execution_count": 74,
      "outputs": [
        {
          "output_type": "stream",
          "text": [
            "Cluster: 0\n",
            "status_type: 2.99\n",
            "num_reactions: 168.38\n",
            "num_comments: 379.28\n",
            "num_shares: 74.77\n",
            "num_likes: 143.01\n",
            "num_loves: 23.42\n",
            "num_wows: 0.64\n",
            "num_hahas: 0.90\n",
            "num_sads: 0.26\n",
            "num_angrys: 0.15\n",
            "Cluster: 1\n",
            "status_type: 1.05\n",
            "num_reactions: 92.00\n",
            "num_comments: 11.73\n",
            "num_shares: 1.73\n",
            "num_likes: 89.95\n",
            "num_loves: 1.24\n",
            "num_wows: 0.53\n",
            "num_hahas: 0.14\n",
            "num_sads: 0.11\n",
            "num_angrys: 0.02\n",
            "Cluster: 2\n",
            "status_type: 2.87\n",
            "num_reactions: 922.15\n",
            "num_comments: 3540.53\n",
            "num_shares: 564.56\n",
            "num_likes: 713.44\n",
            "num_loves: 169.47\n",
            "num_wows: 22.31\n",
            "num_hahas: 11.68\n",
            "num_sads: 3.32\n",
            "num_angrys: 1.94\n",
            "Cluster: 3\n",
            "status_type: 1.55\n",
            "num_reactions: 1815.95\n",
            "num_comments: 60.69\n",
            "num_shares: 11.53\n",
            "num_likes: 1810.22\n",
            "num_loves: 3.08\n",
            "num_wows: 2.42\n",
            "num_hahas: 0.20\n",
            "num_sads: 0.03\n",
            "num_angrys: 0.01\n"
          ],
          "name": "stdout"
        }
      ]
    },
    {
      "cell_type": "markdown",
      "metadata": {
        "id": "-MfmzyF7o7AP"
      },
      "source": [
        "One thing to note is how imbalanced the data is in regards to status_type. Photos and video really dominates. "
      ]
    },
    {
      "cell_type": "code",
      "metadata": {
        "id": "kjcd1qeKNMjB"
      },
      "source": [
        "df.to_csv('/gdrive/My Drive/Data Projects/Marketing Analytics/Personal Projects/Facebook Clusters.csv')"
      ],
      "execution_count": 75,
      "outputs": []
    },
    {
      "cell_type": "markdown",
      "metadata": {
        "id": "gCvsZQpdl1xX"
      },
      "source": [
        "**Analyze Cluster Composition in Excel**"
      ]
    },
    {
      "cell_type": "markdown",
      "metadata": {
        "id": "5M5SUklP0Tow"
      },
      "source": [
        "![Screen Shot 2020-12-16 at 4.09.51 PM.png](data:image/png;base64,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)"
      ]
    },
    {
      "cell_type": "markdown",
      "metadata": {
        "id": "CTsBHYOD1Lp8"
      },
      "source": [
        "![Screen Shot 2020-12-16 at 4.13.54 PM.png](data:image/png;base64,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)"
      ]
    },
    {
      "cell_type": "markdown",
      "metadata": {
        "id": "_j0B59Sv0W6B"
      },
      "source": [
        "PivotTable of the count of status_type per cluster. This continues to show how imbalanced the data is, with much more photo and videos.\n",
        "\n",
        "\n",
        "\n",
        "*  Cluster 0 - video dominated, no links\n",
        "*  Cluster 1 - photo dominated, no videos\n",
        "* Cluster 2 - Video is majority but significantly smaller than cluster 0, no links or statuses. Status_type appears less important for this cluster. \n",
        "* Cluster 3 - Photo is majority, but does include all four status_type. Like cluster 2, status_type appears less important for this cluster.\n",
        "\n"
      ]
    },
    {
      "cell_type": "markdown",
      "metadata": {
        "id": "HC6461lGl4CY"
      },
      "source": [
        "![Screen Shot 2020-12-16 at 3.07.09 PM.png](data:image/png;base64,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)"
      ]
    },
    {
      "cell_type": "markdown",
      "metadata": {
        "id": "zNlqYLvC1cOs"
      },
      "source": [
        "**Cluster Final Conclusions:**"
      ]
    },
    {
      "cell_type": "markdown",
      "metadata": {
        "id": "r0Mnjhx9p_L1"
      },
      "source": [
        "Clusters appear to be arranged as follows: \n",
        "\n",
        "\n",
        "\n",
        "\n",
        "*   Cluster 0 - videos\n",
        "*   Cluster 1 - photos, with no shares, comments, or loves, and minimal reactions and likes\n",
        "* Cluster 2 - seems less relevant the status type, and more to do with large number of comments on the post\n",
        "* Cluster 3 - again, seems less relevant the status type, and more to do with posts that have similar average number of likes and reactions\n",
        "\n",
        "---\n",
        "\n",
        "\n",
        "\n",
        "\n",
        "\n"
      ]
    }
  ]
}